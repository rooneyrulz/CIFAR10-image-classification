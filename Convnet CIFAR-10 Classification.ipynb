{
 "cells": [
  {
   "cell_type": "code",
   "execution_count": 1,
   "id": "13ea64c9",
   "metadata": {},
   "outputs": [],
   "source": [
    "import numpy as np\n",
    "import pandas as pd\n",
    "import matplotlib.pyplot as plt\n",
    "import seaborn as sns"
   ]
  },
  {
   "cell_type": "code",
   "execution_count": 2,
   "id": "ce260bf8",
   "metadata": {},
   "outputs": [],
   "source": [
    "from tensorflow.keras.datasets import cifar10"
   ]
  },
  {
   "cell_type": "code",
   "execution_count": 3,
   "id": "94b20bb4",
   "metadata": {},
   "outputs": [],
   "source": [
    "# Load the dataset CIFAR-10\n",
    "(x_train,y_train),(x_test,y_test) = cifar10.load_data()"
   ]
  },
  {
   "cell_type": "code",
   "execution_count": 4,
   "id": "77920c1f",
   "metadata": {},
   "outputs": [
    {
     "data": {
      "text/plain": [
       "(50000, 32, 32, 3)"
      ]
     },
     "execution_count": 4,
     "metadata": {},
     "output_type": "execute_result"
    }
   ],
   "source": [
    "x_train.shape"
   ]
  },
  {
   "cell_type": "code",
   "execution_count": 5,
   "id": "8bbe052c",
   "metadata": {},
   "outputs": [
    {
     "data": {
      "text/plain": [
       "(32, 32, 3)"
      ]
     },
     "execution_count": 5,
     "metadata": {},
     "output_type": "execute_result"
    }
   ],
   "source": [
    "x_train[0].shape"
   ]
  },
  {
   "cell_type": "code",
   "execution_count": 7,
   "id": "e21533eb",
   "metadata": {},
   "outputs": [
    {
     "data": {
      "text/plain": [
       "<matplotlib.image.AxesImage at 0x13d94da8e80>"
      ]
     },
     "execution_count": 7,
     "metadata": {},
     "output_type": "execute_result"
    },
    {
     "data": {
      "image/png": "[encoded data removed]",
      "text/plain": [
       "<Figure size 432x288 with 1 Axes>"
      ]
     },
     "metadata": {
      "needs_background": "light"
     },
     "output_type": "display_data"
    }
   ],
   "source": [
    "# Visualize the first image\n",
    "plt.imshow(x_train[1])"
   ]
  },
  {
   "cell_type": "code",
   "execution_count": 8,
   "id": "cb52e6f7",
   "metadata": {},
   "outputs": [
    {
     "data": {
      "text/plain": [
       "255"
      ]
     },
     "execution_count": 8,
     "metadata": {},
     "output_type": "execute_result"
    }
   ],
   "source": [
    "x_train.max()"
   ]
  },
  {
   "cell_type": "code",
   "execution_count": 9,
   "id": "e6476385",
   "metadata": {},
   "outputs": [
    {
     "data": {
      "text/plain": [
       "0"
      ]
     },
     "execution_count": 9,
     "metadata": {},
     "output_type": "execute_result"
    }
   ],
   "source": [
    "x_train.min()"
   ]
  },
  {
   "cell_type": "code",
   "execution_count": 10,
   "id": "b400c382",
   "metadata": {},
   "outputs": [],
   "source": [
    "# Scalling the training set\n",
    "x_train = x_train/255"
   ]
  },
  {
   "cell_type": "code",
   "execution_count": 11,
   "id": "2ef6c437",
   "metadata": {},
   "outputs": [],
   "source": [
    "# Scalling the test set\n",
    "x_test = x_test/255"
   ]
  },
  {
   "cell_type": "code",
   "execution_count": 12,
   "id": "f837fdd1",
   "metadata": {},
   "outputs": [
    {
     "data": {
      "text/plain": [
       "array([[[[0.23137255, 0.24313725, 0.24705882],\n",
       "         [0.16862745, 0.18039216, 0.17647059],\n",
       "         [0.19607843, 0.18823529, 0.16862745],\n",
       "         ...,\n",
       "         [0.61960784, 0.51764706, 0.42352941],\n",
       "         [0.59607843, 0.49019608, 0.4       ],\n",
       "         [0.58039216, 0.48627451, 0.40392157]],\n",
       "\n",
       "        [[0.0627451 , 0.07843137, 0.07843137],\n",
       "         [0.        , 0.        , 0.        ],\n",
       "         [0.07058824, 0.03137255, 0.        ],\n",
       "         ...,\n",
       "         [0.48235294, 0.34509804, 0.21568627],\n",
       "         [0.46666667, 0.3254902 , 0.19607843],\n",
       "         [0.47843137, 0.34117647, 0.22352941]],\n",
       "\n",
       "        [[0.09803922, 0.09411765, 0.08235294],\n",
       "         [0.0627451 , 0.02745098, 0.        ],\n",
       "         [0.19215686, 0.10588235, 0.03137255],\n",
       "         ...,\n",
       "         [0.4627451 , 0.32941176, 0.19607843],\n",
       "         [0.47058824, 0.32941176, 0.19607843],\n",
       "         [0.42745098, 0.28627451, 0.16470588]],\n",
       "\n",
       "        ...,\n",
       "\n",
       "        [[0.81568627, 0.66666667, 0.37647059],\n",
       "         [0.78823529, 0.6       , 0.13333333],\n",
       "         [0.77647059, 0.63137255, 0.10196078],\n",
       "         ...,\n",
       "         [0.62745098, 0.52156863, 0.2745098 ],\n",
       "         [0.21960784, 0.12156863, 0.02745098],\n",
       "         [0.20784314, 0.13333333, 0.07843137]],\n",
       "\n",
       "        [[0.70588235, 0.54509804, 0.37647059],\n",
       "         [0.67843137, 0.48235294, 0.16470588],\n",
       "         [0.72941176, 0.56470588, 0.11764706],\n",
       "         ...,\n",
       "         [0.72156863, 0.58039216, 0.36862745],\n",
       "         [0.38039216, 0.24313725, 0.13333333],\n",
       "         [0.3254902 , 0.20784314, 0.13333333]],\n",
       "\n",
       "        [[0.69411765, 0.56470588, 0.45490196],\n",
       "         [0.65882353, 0.50588235, 0.36862745],\n",
       "         [0.70196078, 0.55686275, 0.34117647],\n",
       "         ...,\n",
       "         [0.84705882, 0.72156863, 0.54901961],\n",
       "         [0.59215686, 0.4627451 , 0.32941176],\n",
       "         [0.48235294, 0.36078431, 0.28235294]]],\n",
       "\n",
       "\n",
       "       [[[0.60392157, 0.69411765, 0.73333333],\n",
       "         [0.49411765, 0.5372549 , 0.53333333],\n",
       "         [0.41176471, 0.40784314, 0.37254902],\n",
       "         ...,\n",
       "         [0.35686275, 0.37254902, 0.27843137],\n",
       "         [0.34117647, 0.35294118, 0.27843137],\n",
       "         [0.30980392, 0.31764706, 0.2745098 ]],\n",
       "\n",
       "        [[0.54901961, 0.62745098, 0.6627451 ],\n",
       "         [0.56862745, 0.6       , 0.60392157],\n",
       "         [0.49019608, 0.49019608, 0.4627451 ],\n",
       "         ...,\n",
       "         [0.37647059, 0.38823529, 0.30588235],\n",
       "         [0.30196078, 0.31372549, 0.24313725],\n",
       "         [0.27843137, 0.28627451, 0.23921569]],\n",
       "\n",
       "        [[0.54901961, 0.60784314, 0.64313725],\n",
       "         [0.54509804, 0.57254902, 0.58431373],\n",
       "         [0.45098039, 0.45098039, 0.43921569],\n",
       "         ...,\n",
       "         [0.30980392, 0.32156863, 0.25098039],\n",
       "         [0.26666667, 0.2745098 , 0.21568627],\n",
       "         [0.2627451 , 0.27058824, 0.21568627]],\n",
       "\n",
       "        ...,\n",
       "\n",
       "        [[0.68627451, 0.65490196, 0.65098039],\n",
       "         [0.61176471, 0.60392157, 0.62745098],\n",
       "         [0.60392157, 0.62745098, 0.66666667],\n",
       "         ...,\n",
       "         [0.16470588, 0.13333333, 0.14117647],\n",
       "         [0.23921569, 0.20784314, 0.22352941],\n",
       "         [0.36470588, 0.3254902 , 0.35686275]],\n",
       "\n",
       "        [[0.64705882, 0.60392157, 0.50196078],\n",
       "         [0.61176471, 0.59607843, 0.50980392],\n",
       "         [0.62352941, 0.63137255, 0.55686275],\n",
       "         ...,\n",
       "         [0.40392157, 0.36470588, 0.37647059],\n",
       "         [0.48235294, 0.44705882, 0.47058824],\n",
       "         [0.51372549, 0.4745098 , 0.51372549]],\n",
       "\n",
       "        [[0.63921569, 0.58039216, 0.47058824],\n",
       "         [0.61960784, 0.58039216, 0.47843137],\n",
       "         [0.63921569, 0.61176471, 0.52156863],\n",
       "         ...,\n",
       "         [0.56078431, 0.52156863, 0.54509804],\n",
       "         [0.56078431, 0.5254902 , 0.55686275],\n",
       "         [0.56078431, 0.52156863, 0.56470588]]],\n",
       "\n",
       "\n",
       "       [[[1.        , 1.        , 1.        ],\n",
       "         [0.99215686, 0.99215686, 0.99215686],\n",
       "         [0.99215686, 0.99215686, 0.99215686],\n",
       "         ...,\n",
       "         [0.99215686, 0.99215686, 0.99215686],\n",
       "         [0.99215686, 0.99215686, 0.99215686],\n",
       "         [0.99215686, 0.99215686, 0.99215686]],\n",
       "\n",
       "        [[1.        , 1.        , 1.        ],\n",
       "         [1.        , 1.        , 1.        ],\n",
       "         [1.        , 1.        , 1.        ],\n",
       "         ...,\n",
       "         [1.        , 1.        , 1.        ],\n",
       "         [1.        , 1.        , 1.        ],\n",
       "         [1.        , 1.        , 1.        ]],\n",
       "\n",
       "        [[1.        , 1.        , 1.        ],\n",
       "         [0.99607843, 0.99607843, 0.99607843],\n",
       "         [0.99607843, 0.99607843, 0.99607843],\n",
       "         ...,\n",
       "         [0.99607843, 0.99607843, 0.99607843],\n",
       "         [0.99607843, 0.99607843, 0.99607843],\n",
       "         [0.99607843, 0.99607843, 0.99607843]],\n",
       "\n",
       "        ...,\n",
       "\n",
       "        [[0.44313725, 0.47058824, 0.43921569],\n",
       "         [0.43529412, 0.4627451 , 0.43529412],\n",
       "         [0.41176471, 0.43921569, 0.41568627],\n",
       "         ...,\n",
       "         [0.28235294, 0.31764706, 0.31372549],\n",
       "         [0.28235294, 0.31372549, 0.30980392],\n",
       "         [0.28235294, 0.31372549, 0.30980392]],\n",
       "\n",
       "        [[0.43529412, 0.4627451 , 0.43137255],\n",
       "         [0.40784314, 0.43529412, 0.40784314],\n",
       "         [0.38823529, 0.41568627, 0.38431373],\n",
       "         ...,\n",
       "         [0.26666667, 0.29411765, 0.28627451],\n",
       "         [0.2745098 , 0.29803922, 0.29411765],\n",
       "         [0.30588235, 0.32941176, 0.32156863]],\n",
       "\n",
       "        [[0.41568627, 0.44313725, 0.41176471],\n",
       "         [0.38823529, 0.41568627, 0.38431373],\n",
       "         [0.37254902, 0.4       , 0.36862745],\n",
       "         ...,\n",
       "         [0.30588235, 0.33333333, 0.3254902 ],\n",
       "         [0.30980392, 0.33333333, 0.3254902 ],\n",
       "         [0.31372549, 0.3372549 , 0.32941176]]],\n",
       "\n",
       "\n",
       "       ...,\n",
       "\n",
       "\n",
       "       [[[0.1372549 , 0.69803922, 0.92156863],\n",
       "         [0.15686275, 0.69019608, 0.9372549 ],\n",
       "         [0.16470588, 0.69019608, 0.94509804],\n",
       "         ...,\n",
       "         [0.38823529, 0.69411765, 0.85882353],\n",
       "         [0.30980392, 0.57647059, 0.77254902],\n",
       "         [0.34901961, 0.58039216, 0.74117647]],\n",
       "\n",
       "        [[0.22352941, 0.71372549, 0.91764706],\n",
       "         [0.17254902, 0.72156863, 0.98039216],\n",
       "         [0.19607843, 0.71764706, 0.94117647],\n",
       "         ...,\n",
       "         [0.61176471, 0.71372549, 0.78431373],\n",
       "         [0.55294118, 0.69411765, 0.80784314],\n",
       "         [0.45490196, 0.58431373, 0.68627451]],\n",
       "\n",
       "        [[0.38431373, 0.77254902, 0.92941176],\n",
       "         [0.25098039, 0.74117647, 0.98823529],\n",
       "         [0.27058824, 0.75294118, 0.96078431],\n",
       "         ...,\n",
       "         [0.7372549 , 0.76470588, 0.80784314],\n",
       "         [0.46666667, 0.52941176, 0.57647059],\n",
       "         [0.23921569, 0.30980392, 0.35294118]],\n",
       "\n",
       "        ...,\n",
       "\n",
       "        [[0.28627451, 0.30980392, 0.30196078],\n",
       "         [0.20784314, 0.24705882, 0.26666667],\n",
       "         [0.21176471, 0.26666667, 0.31372549],\n",
       "         ...,\n",
       "         [0.06666667, 0.15686275, 0.25098039],\n",
       "         [0.08235294, 0.14117647, 0.2       ],\n",
       "         [0.12941176, 0.18823529, 0.19215686]],\n",
       "\n",
       "        [[0.23921569, 0.26666667, 0.29411765],\n",
       "         [0.21568627, 0.2745098 , 0.3372549 ],\n",
       "         [0.22352941, 0.30980392, 0.40392157],\n",
       "         ...,\n",
       "         [0.09411765, 0.18823529, 0.28235294],\n",
       "         [0.06666667, 0.1372549 , 0.20784314],\n",
       "         [0.02745098, 0.09019608, 0.1254902 ]],\n",
       "\n",
       "        [[0.17254902, 0.21960784, 0.28627451],\n",
       "         [0.18039216, 0.25882353, 0.34509804],\n",
       "         [0.19215686, 0.30196078, 0.41176471],\n",
       "         ...,\n",
       "         [0.10588235, 0.20392157, 0.30196078],\n",
       "         [0.08235294, 0.16862745, 0.25882353],\n",
       "         [0.04705882, 0.12156863, 0.19607843]]],\n",
       "\n",
       "\n",
       "       [[[0.74117647, 0.82745098, 0.94117647],\n",
       "         [0.72941176, 0.81568627, 0.9254902 ],\n",
       "         [0.7254902 , 0.81176471, 0.92156863],\n",
       "         ...,\n",
       "         [0.68627451, 0.76470588, 0.87843137],\n",
       "         [0.6745098 , 0.76078431, 0.87058824],\n",
       "         [0.6627451 , 0.76078431, 0.8627451 ]],\n",
       "\n",
       "        [[0.76078431, 0.82352941, 0.9372549 ],\n",
       "         [0.74901961, 0.81176471, 0.9254902 ],\n",
       "         [0.74509804, 0.80784314, 0.92156863],\n",
       "         ...,\n",
       "         [0.67843137, 0.75294118, 0.8627451 ],\n",
       "         [0.67058824, 0.74901961, 0.85490196],\n",
       "         [0.65490196, 0.74509804, 0.84705882]],\n",
       "\n",
       "        [[0.81568627, 0.85882353, 0.95686275],\n",
       "         [0.80392157, 0.84705882, 0.94117647],\n",
       "         [0.8       , 0.84313725, 0.9372549 ],\n",
       "         ...,\n",
       "         [0.68627451, 0.74901961, 0.85098039],\n",
       "         [0.6745098 , 0.74509804, 0.84705882],\n",
       "         [0.6627451 , 0.74901961, 0.84313725]],\n",
       "\n",
       "        ...,\n",
       "\n",
       "        [[0.81176471, 0.78039216, 0.70980392],\n",
       "         [0.79607843, 0.76470588, 0.68627451],\n",
       "         [0.79607843, 0.76862745, 0.67843137],\n",
       "         ...,\n",
       "         [0.52941176, 0.51764706, 0.49803922],\n",
       "         [0.63529412, 0.61960784, 0.58823529],\n",
       "         [0.65882353, 0.63921569, 0.59215686]],\n",
       "\n",
       "        [[0.77647059, 0.74509804, 0.66666667],\n",
       "         [0.74117647, 0.70980392, 0.62352941],\n",
       "         [0.70588235, 0.6745098 , 0.57647059],\n",
       "         ...,\n",
       "         [0.69803922, 0.67058824, 0.62745098],\n",
       "         [0.68627451, 0.6627451 , 0.61176471],\n",
       "         [0.68627451, 0.6627451 , 0.60392157]],\n",
       "\n",
       "        [[0.77647059, 0.74117647, 0.67843137],\n",
       "         [0.74117647, 0.70980392, 0.63529412],\n",
       "         [0.69803922, 0.66666667, 0.58431373],\n",
       "         ...,\n",
       "         [0.76470588, 0.72156863, 0.6627451 ],\n",
       "         [0.76862745, 0.74117647, 0.67058824],\n",
       "         [0.76470588, 0.74509804, 0.67058824]]],\n",
       "\n",
       "\n",
       "       [[[0.89803922, 0.89803922, 0.9372549 ],\n",
       "         [0.9254902 , 0.92941176, 0.96862745],\n",
       "         [0.91764706, 0.9254902 , 0.96862745],\n",
       "         ...,\n",
       "         [0.85098039, 0.85882353, 0.91372549],\n",
       "         [0.86666667, 0.8745098 , 0.91764706],\n",
       "         [0.87058824, 0.8745098 , 0.91372549]],\n",
       "\n",
       "        [[0.87058824, 0.86666667, 0.89803922],\n",
       "         [0.9372549 , 0.9372549 , 0.97647059],\n",
       "         [0.91372549, 0.91764706, 0.96470588],\n",
       "         ...,\n",
       "         [0.8745098 , 0.8745098 , 0.9254902 ],\n",
       "         [0.89019608, 0.89411765, 0.93333333],\n",
       "         [0.82352941, 0.82745098, 0.8627451 ]],\n",
       "\n",
       "        [[0.83529412, 0.80784314, 0.82745098],\n",
       "         [0.91764706, 0.90980392, 0.9372549 ],\n",
       "         [0.90588235, 0.91372549, 0.95686275],\n",
       "         ...,\n",
       "         [0.8627451 , 0.8627451 , 0.90980392],\n",
       "         [0.8627451 , 0.85882353, 0.90980392],\n",
       "         [0.79215686, 0.79607843, 0.84313725]],\n",
       "\n",
       "        ...,\n",
       "\n",
       "        [[0.58823529, 0.56078431, 0.52941176],\n",
       "         [0.54901961, 0.52941176, 0.49803922],\n",
       "         [0.51764706, 0.49803922, 0.47058824],\n",
       "         ...,\n",
       "         [0.87843137, 0.87058824, 0.85490196],\n",
       "         [0.90196078, 0.89411765, 0.88235294],\n",
       "         [0.94509804, 0.94509804, 0.93333333]],\n",
       "\n",
       "        [[0.5372549 , 0.51764706, 0.49411765],\n",
       "         [0.50980392, 0.49803922, 0.47058824],\n",
       "         [0.49019608, 0.4745098 , 0.45098039],\n",
       "         ...,\n",
       "         [0.70980392, 0.70588235, 0.69803922],\n",
       "         [0.79215686, 0.78823529, 0.77647059],\n",
       "         [0.83137255, 0.82745098, 0.81176471]],\n",
       "\n",
       "        [[0.47843137, 0.46666667, 0.44705882],\n",
       "         [0.4627451 , 0.45490196, 0.43137255],\n",
       "         [0.47058824, 0.45490196, 0.43529412],\n",
       "         ...,\n",
       "         [0.70196078, 0.69411765, 0.67843137],\n",
       "         [0.64313725, 0.64313725, 0.63529412],\n",
       "         [0.63921569, 0.63921569, 0.63137255]]]])"
      ]
     },
     "execution_count": 12,
     "metadata": {},
     "output_type": "execute_result"
    }
   ],
   "source": [
    "x_train"
   ]
  },
  {
   "cell_type": "code",
   "execution_count": 13,
   "id": "551bd854",
   "metadata": {},
   "outputs": [
    {
     "data": {
      "text/plain": [
       "array([[[[0.61960784, 0.43921569, 0.19215686],\n",
       "         [0.62352941, 0.43529412, 0.18431373],\n",
       "         [0.64705882, 0.45490196, 0.2       ],\n",
       "         ...,\n",
       "         [0.5372549 , 0.37254902, 0.14117647],\n",
       "         [0.49411765, 0.35686275, 0.14117647],\n",
       "         [0.45490196, 0.33333333, 0.12941176]],\n",
       "\n",
       "        [[0.59607843, 0.43921569, 0.2       ],\n",
       "         [0.59215686, 0.43137255, 0.15686275],\n",
       "         [0.62352941, 0.44705882, 0.17647059],\n",
       "         ...,\n",
       "         [0.53333333, 0.37254902, 0.12156863],\n",
       "         [0.49019608, 0.35686275, 0.1254902 ],\n",
       "         [0.46666667, 0.34509804, 0.13333333]],\n",
       "\n",
       "        [[0.59215686, 0.43137255, 0.18431373],\n",
       "         [0.59215686, 0.42745098, 0.12941176],\n",
       "         [0.61960784, 0.43529412, 0.14117647],\n",
       "         ...,\n",
       "         [0.54509804, 0.38431373, 0.13333333],\n",
       "         [0.50980392, 0.37254902, 0.13333333],\n",
       "         [0.47058824, 0.34901961, 0.12941176]],\n",
       "\n",
       "        ...,\n",
       "\n",
       "        [[0.26666667, 0.48627451, 0.69411765],\n",
       "         [0.16470588, 0.39215686, 0.58039216],\n",
       "         [0.12156863, 0.34509804, 0.5372549 ],\n",
       "         ...,\n",
       "         [0.14901961, 0.38039216, 0.57254902],\n",
       "         [0.05098039, 0.25098039, 0.42352941],\n",
       "         [0.15686275, 0.33333333, 0.49803922]],\n",
       "\n",
       "        [[0.23921569, 0.45490196, 0.65882353],\n",
       "         [0.19215686, 0.4       , 0.58039216],\n",
       "         [0.1372549 , 0.33333333, 0.51764706],\n",
       "         ...,\n",
       "         [0.10196078, 0.32156863, 0.50980392],\n",
       "         [0.11372549, 0.32156863, 0.49411765],\n",
       "         [0.07843137, 0.25098039, 0.41960784]],\n",
       "\n",
       "        [[0.21176471, 0.41960784, 0.62745098],\n",
       "         [0.21960784, 0.41176471, 0.58431373],\n",
       "         [0.17647059, 0.34901961, 0.51764706],\n",
       "         ...,\n",
       "         [0.09411765, 0.30196078, 0.48627451],\n",
       "         [0.13333333, 0.32941176, 0.50588235],\n",
       "         [0.08235294, 0.2627451 , 0.43137255]]],\n",
       "\n",
       "\n",
       "       [[[0.92156863, 0.92156863, 0.92156863],\n",
       "         [0.90588235, 0.90588235, 0.90588235],\n",
       "         [0.90980392, 0.90980392, 0.90980392],\n",
       "         ...,\n",
       "         [0.91372549, 0.91372549, 0.91372549],\n",
       "         [0.91372549, 0.91372549, 0.91372549],\n",
       "         [0.90980392, 0.90980392, 0.90980392]],\n",
       "\n",
       "        [[0.93333333, 0.93333333, 0.93333333],\n",
       "         [0.92156863, 0.92156863, 0.92156863],\n",
       "         [0.92156863, 0.92156863, 0.92156863],\n",
       "         ...,\n",
       "         [0.9254902 , 0.9254902 , 0.9254902 ],\n",
       "         [0.9254902 , 0.9254902 , 0.9254902 ],\n",
       "         [0.92156863, 0.92156863, 0.92156863]],\n",
       "\n",
       "        [[0.92941176, 0.92941176, 0.92941176],\n",
       "         [0.91764706, 0.91764706, 0.91764706],\n",
       "         [0.91764706, 0.91764706, 0.91764706],\n",
       "         ...,\n",
       "         [0.92156863, 0.92156863, 0.92156863],\n",
       "         [0.92156863, 0.92156863, 0.92156863],\n",
       "         [0.91764706, 0.91764706, 0.91764706]],\n",
       "\n",
       "        ...,\n",
       "\n",
       "        [[0.34117647, 0.38823529, 0.34901961],\n",
       "         [0.16862745, 0.2       , 0.14509804],\n",
       "         [0.0745098 , 0.09019608, 0.04313725],\n",
       "         ...,\n",
       "         [0.6627451 , 0.72156863, 0.70196078],\n",
       "         [0.71372549, 0.77254902, 0.75686275],\n",
       "         [0.7372549 , 0.79215686, 0.78823529]],\n",
       "\n",
       "        [[0.32156863, 0.37647059, 0.32156863],\n",
       "         [0.18039216, 0.22352941, 0.14117647],\n",
       "         [0.14117647, 0.17254902, 0.08627451],\n",
       "         ...,\n",
       "         [0.68235294, 0.74117647, 0.71764706],\n",
       "         [0.7254902 , 0.78431373, 0.76862745],\n",
       "         [0.73333333, 0.79215686, 0.78431373]],\n",
       "\n",
       "        [[0.33333333, 0.39607843, 0.3254902 ],\n",
       "         [0.24313725, 0.29411765, 0.18823529],\n",
       "         [0.22745098, 0.2627451 , 0.14901961],\n",
       "         ...,\n",
       "         [0.65882353, 0.71764706, 0.69803922],\n",
       "         [0.70588235, 0.76470588, 0.74901961],\n",
       "         [0.72941176, 0.78431373, 0.78039216]]],\n",
       "\n",
       "\n",
       "       [[[0.61960784, 0.74509804, 0.87058824],\n",
       "         [0.61960784, 0.73333333, 0.85490196],\n",
       "         [0.54509804, 0.65098039, 0.76078431],\n",
       "         ...,\n",
       "         [0.89411765, 0.90588235, 0.91764706],\n",
       "         [0.92941176, 0.9372549 , 0.95294118],\n",
       "         [0.93333333, 0.94509804, 0.96470588]],\n",
       "\n",
       "        [[0.66666667, 0.78431373, 0.89803922],\n",
       "         [0.6745098 , 0.78039216, 0.88627451],\n",
       "         [0.59215686, 0.69019608, 0.78823529],\n",
       "         ...,\n",
       "         [0.90980392, 0.90980392, 0.9254902 ],\n",
       "         [0.96470588, 0.96470588, 0.98039216],\n",
       "         [0.96470588, 0.96862745, 0.98431373]],\n",
       "\n",
       "        [[0.68235294, 0.78823529, 0.88235294],\n",
       "         [0.69019608, 0.78431373, 0.87058824],\n",
       "         [0.61568627, 0.70196078, 0.78039216],\n",
       "         ...,\n",
       "         [0.90196078, 0.89803922, 0.90980392],\n",
       "         [0.98039216, 0.97647059, 0.98431373],\n",
       "         [0.96078431, 0.95686275, 0.96862745]],\n",
       "\n",
       "        ...,\n",
       "\n",
       "        [[0.12156863, 0.15686275, 0.17647059],\n",
       "         [0.11764706, 0.15294118, 0.17254902],\n",
       "         [0.10196078, 0.1372549 , 0.15686275],\n",
       "         ...,\n",
       "         [0.14509804, 0.15686275, 0.18039216],\n",
       "         [0.03529412, 0.05098039, 0.05490196],\n",
       "         [0.01568627, 0.02745098, 0.01960784]],\n",
       "\n",
       "        [[0.09019608, 0.13333333, 0.15294118],\n",
       "         [0.10588235, 0.14901961, 0.16862745],\n",
       "         [0.09803922, 0.14117647, 0.16078431],\n",
       "         ...,\n",
       "         [0.0745098 , 0.07843137, 0.09411765],\n",
       "         [0.01568627, 0.02352941, 0.01176471],\n",
       "         [0.01960784, 0.02745098, 0.01176471]],\n",
       "\n",
       "        [[0.10980392, 0.16078431, 0.18431373],\n",
       "         [0.11764706, 0.16862745, 0.19607843],\n",
       "         [0.1254902 , 0.17647059, 0.20392157],\n",
       "         ...,\n",
       "         [0.01960784, 0.02352941, 0.03137255],\n",
       "         [0.01568627, 0.01960784, 0.01176471],\n",
       "         [0.02745098, 0.03137255, 0.02745098]]],\n",
       "\n",
       "\n",
       "       ...,\n",
       "\n",
       "\n",
       "       [[[0.07843137, 0.05882353, 0.04705882],\n",
       "         [0.0745098 , 0.05490196, 0.04313725],\n",
       "         [0.05882353, 0.05490196, 0.04313725],\n",
       "         ...,\n",
       "         [0.03921569, 0.03529412, 0.02745098],\n",
       "         [0.04705882, 0.04313725, 0.03529412],\n",
       "         [0.05098039, 0.04705882, 0.03921569]],\n",
       "\n",
       "        [[0.08235294, 0.0627451 , 0.05098039],\n",
       "         [0.07843137, 0.0627451 , 0.05098039],\n",
       "         [0.07058824, 0.06666667, 0.04705882],\n",
       "         ...,\n",
       "         [0.03921569, 0.03529412, 0.02745098],\n",
       "         [0.03921569, 0.03529412, 0.02745098],\n",
       "         [0.04705882, 0.04313725, 0.03529412]],\n",
       "\n",
       "        [[0.08235294, 0.0627451 , 0.05098039],\n",
       "         [0.08235294, 0.06666667, 0.04705882],\n",
       "         [0.07843137, 0.07058824, 0.04313725],\n",
       "         ...,\n",
       "         [0.04705882, 0.04313725, 0.03529412],\n",
       "         [0.04705882, 0.04313725, 0.03529412],\n",
       "         [0.05098039, 0.04705882, 0.03921569]],\n",
       "\n",
       "        ...,\n",
       "\n",
       "        [[0.12941176, 0.09803922, 0.05098039],\n",
       "         [0.13333333, 0.10196078, 0.05882353],\n",
       "         [0.13333333, 0.10196078, 0.05882353],\n",
       "         ...,\n",
       "         [0.10980392, 0.09803922, 0.20392157],\n",
       "         [0.11372549, 0.09803922, 0.22745098],\n",
       "         [0.09019608, 0.07843137, 0.16470588]],\n",
       "\n",
       "        [[0.12941176, 0.09803922, 0.05490196],\n",
       "         [0.13333333, 0.10196078, 0.05882353],\n",
       "         [0.13333333, 0.10196078, 0.05882353],\n",
       "         ...,\n",
       "         [0.10588235, 0.09411765, 0.20392157],\n",
       "         [0.10588235, 0.09411765, 0.21960784],\n",
       "         [0.09803922, 0.08627451, 0.18431373]],\n",
       "\n",
       "        [[0.12156863, 0.09019608, 0.04705882],\n",
       "         [0.1254902 , 0.09411765, 0.05098039],\n",
       "         [0.12941176, 0.09803922, 0.05490196],\n",
       "         ...,\n",
       "         [0.09411765, 0.09019608, 0.19607843],\n",
       "         [0.10196078, 0.09019608, 0.20784314],\n",
       "         [0.09803922, 0.07843137, 0.18431373]]],\n",
       "\n",
       "\n",
       "       [[[0.09803922, 0.15686275, 0.04705882],\n",
       "         [0.05882353, 0.14117647, 0.01176471],\n",
       "         [0.09019608, 0.16078431, 0.07058824],\n",
       "         ...,\n",
       "         [0.23921569, 0.32156863, 0.30588235],\n",
       "         [0.36078431, 0.44313725, 0.43921569],\n",
       "         [0.29411765, 0.34901961, 0.36078431]],\n",
       "\n",
       "        [[0.04705882, 0.09803922, 0.02352941],\n",
       "         [0.07843137, 0.14509804, 0.02745098],\n",
       "         [0.09411765, 0.14117647, 0.05882353],\n",
       "         ...,\n",
       "         [0.45098039, 0.5254902 , 0.54117647],\n",
       "         [0.58431373, 0.65882353, 0.69411765],\n",
       "         [0.40784314, 0.45882353, 0.51372549]],\n",
       "\n",
       "        [[0.04705882, 0.09803922, 0.04313725],\n",
       "         [0.05882353, 0.11372549, 0.02352941],\n",
       "         [0.13333333, 0.15686275, 0.09411765],\n",
       "         ...,\n",
       "         [0.60392157, 0.6745098 , 0.71372549],\n",
       "         [0.61568627, 0.68627451, 0.75294118],\n",
       "         [0.45490196, 0.50588235, 0.59215686]],\n",
       "\n",
       "        ...,\n",
       "\n",
       "        [[0.39215686, 0.50588235, 0.31764706],\n",
       "         [0.40392157, 0.51764706, 0.32941176],\n",
       "         [0.40784314, 0.5254902 , 0.3372549 ],\n",
       "         ...,\n",
       "         [0.38039216, 0.50196078, 0.32941176],\n",
       "         [0.38431373, 0.49411765, 0.32941176],\n",
       "         [0.35686275, 0.4745098 , 0.30980392]],\n",
       "\n",
       "        [[0.40392157, 0.51764706, 0.3254902 ],\n",
       "         [0.40784314, 0.51372549, 0.3254902 ],\n",
       "         [0.41960784, 0.52941176, 0.34117647],\n",
       "         ...,\n",
       "         [0.39607843, 0.51764706, 0.34117647],\n",
       "         [0.38823529, 0.49803922, 0.32941176],\n",
       "         [0.36078431, 0.4745098 , 0.30980392]],\n",
       "\n",
       "        [[0.37254902, 0.49411765, 0.30588235],\n",
       "         [0.37254902, 0.48235294, 0.29803922],\n",
       "         [0.39607843, 0.50196078, 0.31764706],\n",
       "         ...,\n",
       "         [0.36470588, 0.48627451, 0.31372549],\n",
       "         [0.37254902, 0.48235294, 0.31764706],\n",
       "         [0.36078431, 0.47058824, 0.31372549]]],\n",
       "\n",
       "\n",
       "       [[[0.28627451, 0.30588235, 0.29411765],\n",
       "         [0.38431373, 0.40392157, 0.44313725],\n",
       "         [0.38823529, 0.41568627, 0.44705882],\n",
       "         ...,\n",
       "         [0.52941176, 0.58823529, 0.59607843],\n",
       "         [0.52941176, 0.58431373, 0.60392157],\n",
       "         [0.79607843, 0.84313725, 0.8745098 ]],\n",
       "\n",
       "        [[0.27058824, 0.28627451, 0.2745098 ],\n",
       "         [0.32941176, 0.34901961, 0.38039216],\n",
       "         [0.26666667, 0.29411765, 0.31764706],\n",
       "         ...,\n",
       "         [0.33333333, 0.37254902, 0.34901961],\n",
       "         [0.27843137, 0.32156863, 0.31372549],\n",
       "         [0.47058824, 0.52156863, 0.52941176]],\n",
       "\n",
       "        [[0.27058824, 0.28627451, 0.2745098 ],\n",
       "         [0.35294118, 0.37254902, 0.39215686],\n",
       "         [0.24313725, 0.27843137, 0.29019608],\n",
       "         ...,\n",
       "         [0.29019608, 0.31764706, 0.2745098 ],\n",
       "         [0.20784314, 0.24313725, 0.21176471],\n",
       "         [0.24313725, 0.29019608, 0.27058824]],\n",
       "\n",
       "        ...,\n",
       "\n",
       "        [[0.48235294, 0.50196078, 0.37647059],\n",
       "         [0.51764706, 0.51764706, 0.4       ],\n",
       "         [0.50588235, 0.50196078, 0.39215686],\n",
       "         ...,\n",
       "         [0.42352941, 0.41960784, 0.34509804],\n",
       "         [0.24313725, 0.23529412, 0.21568627],\n",
       "         [0.10588235, 0.10588235, 0.10980392]],\n",
       "\n",
       "        [[0.45098039, 0.4745098 , 0.35686275],\n",
       "         [0.48235294, 0.48627451, 0.37254902],\n",
       "         [0.50588235, 0.49411765, 0.38823529],\n",
       "         ...,\n",
       "         [0.45098039, 0.45490196, 0.36862745],\n",
       "         [0.25882353, 0.25490196, 0.23137255],\n",
       "         [0.10588235, 0.10588235, 0.10588235]],\n",
       "\n",
       "        [[0.45490196, 0.47058824, 0.35294118],\n",
       "         [0.4745098 , 0.47843137, 0.36862745],\n",
       "         [0.50588235, 0.50196078, 0.39607843],\n",
       "         ...,\n",
       "         [0.45490196, 0.45098039, 0.36862745],\n",
       "         [0.26666667, 0.25490196, 0.22745098],\n",
       "         [0.10588235, 0.10196078, 0.10196078]]]])"
      ]
     },
     "execution_count": 13,
     "metadata": {},
     "output_type": "execute_result"
    }
   ],
   "source": [
    "x_test"
   ]
  },
  {
   "cell_type": "code",
   "execution_count": 23,
   "id": "cda74ba1",
   "metadata": {},
   "outputs": [
    {
     "data": {
      "text/plain": [
       "array([[3],\n",
       "       [8],\n",
       "       [8],\n",
       "       ...,\n",
       "       [5],\n",
       "       [1],\n",
       "       [7]], dtype=uint8)"
      ]
     },
     "execution_count": 23,
     "metadata": {},
     "output_type": "execute_result"
    }
   ],
   "source": [
    "y_test"
   ]
  },
  {
   "cell_type": "code",
   "execution_count": 16,
   "id": "3a77c1e5",
   "metadata": {},
   "outputs": [],
   "source": [
    "from tensorflow.keras.utils import to_categorical"
   ]
  },
  {
   "cell_type": "code",
   "execution_count": 18,
   "id": "250b3279",
   "metadata": {},
   "outputs": [],
   "source": [
    "# Encoding x_train to categorical\n",
    "y_cat_train = to_categorical(y_train,num_classes=10)"
   ]
  },
  {
   "cell_type": "code",
   "execution_count": 19,
   "id": "8f2bb323",
   "metadata": {},
   "outputs": [],
   "source": [
    "# Encoding y_train to categorical\n",
    "y_cat_test = to_categorical(y_test,num_classes=10)"
   ]
  },
  {
   "cell_type": "code",
   "execution_count": 24,
   "id": "a6fd44bb",
   "metadata": {},
   "outputs": [
    {
     "data": {
      "text/plain": [
       "array([0., 0., 0., 1., 0., 0., 0., 0., 0., 0.], dtype=float32)"
      ]
     },
     "execution_count": 24,
     "metadata": {},
     "output_type": "execute_result"
    }
   ],
   "source": [
    "y_cat_test[0]"
   ]
  },
  {
   "cell_type": "markdown",
   "id": "143ea360",
   "metadata": {},
   "source": [
    "### Building the model"
   ]
  },
  {
   "cell_type": "code",
   "execution_count": 26,
   "id": "2da4b561",
   "metadata": {},
   "outputs": [],
   "source": [
    "from tensorflow.keras.models import Sequential\n",
    "from tensorflow.keras.layers import Dense,Conv2D,MaxPool2D,Flatten,Dropout"
   ]
  },
  {
   "cell_type": "code",
   "execution_count": 27,
   "id": "ca166e2c",
   "metadata": {},
   "outputs": [],
   "source": [
    "model = Sequential()\n",
    "\n",
    "model.add(Conv2D(filters=32,kernel_size=(3,3),padding='same',input_shape=(32,32,3),activation='relu'))\n",
    "model.add(Conv2D(filters=32,kernel_size=(3,3),activation='relu'))\n",
    "model.add(MaxPool2D(pool_size=(2,2)))\n",
    "model.add(Dropout(0.25))\n",
    "\n",
    "model.add(Conv2D(filters=64,kernel_size=(3,3),padding='same',activation='relu'))\n",
    "model.add(Conv2D(filters=64,kernel_size=(3,3),activation='relu'))\n",
    "model.add(MaxPool2D(pool_size=(2,2)))\n",
    "model.add(Dropout(0.25))\n",
    "\n",
    "model.add(Conv2D(filters=64,kernel_size=(3,3),padding='same',activation='relu'))\n",
    "model.add(Conv2D(filters=64,kernel_size=(3,3),activation='relu'))\n",
    "model.add(MaxPool2D(pool_size=(2,2)))\n",
    "model.add(Dropout(0.25))\n",
    "\n",
    "model.add(Flatten())\n",
    "model.add(Dense(256,activation='relu'))\n",
    "model.add(Dropout(0.25))\n",
    "\n",
    "# Output Layer\n",
    "model.add(Dense(10,activation='softmax'))\n",
    "\n",
    "model.compile(loss='categorical_crossentropy', optimizer='adam', metrics=['accuracy'])"
   ]
  },
  {
   "cell_type": "code",
   "execution_count": 28,
   "id": "bbeafe3f",
   "metadata": {},
   "outputs": [
    {
     "name": "stdout",
     "output_type": "stream",
     "text": [
      "Model: \"sequential\"\n",
      "_________________________________________________________________\n",
      "Layer (type)                 Output Shape              Param #   \n",
      "=================================================================\n",
      "conv2d (Conv2D)              (None, 32, 32, 32)        896       \n",
      "_________________________________________________________________\n",
      "conv2d_1 (Conv2D)            (None, 30, 30, 32)        9248      \n",
      "_________________________________________________________________\n",
      "max_pooling2d (MaxPooling2D) (None, 15, 15, 32)        0         \n",
      "_________________________________________________________________\n",
      "dropout (Dropout)            (None, 15, 15, 32)        0         \n",
      "_________________________________________________________________\n",
      "conv2d_2 (Conv2D)            (None, 15, 15, 64)        18496     \n",
      "_________________________________________________________________\n",
      "conv2d_3 (Conv2D)            (None, 13, 13, 64)        36928     \n",
      "_________________________________________________________________\n",
      "max_pooling2d_1 (MaxPooling2 (None, 6, 6, 64)          0         \n",
      "_________________________________________________________________\n",
      "dropout_1 (Dropout)          (None, 6, 6, 64)          0         \n",
      "_________________________________________________________________\n",
      "conv2d_4 (Conv2D)            (None, 6, 6, 64)          36928     \n",
      "_________________________________________________________________\n",
      "conv2d_5 (Conv2D)            (None, 4, 4, 64)          36928     \n",
      "_________________________________________________________________\n",
      "max_pooling2d_2 (MaxPooling2 (None, 2, 2, 64)          0         \n",
      "_________________________________________________________________\n",
      "dropout_2 (Dropout)          (None, 2, 2, 64)          0         \n",
      "_________________________________________________________________\n",
      "flatten (Flatten)            (None, 256)               0         \n",
      "_________________________________________________________________\n",
      "dense (Dense)                (None, 256)               65792     \n",
      "_________________________________________________________________\n",
      "dropout_3 (Dropout)          (None, 256)               0         \n",
      "_________________________________________________________________\n",
      "dense_1 (Dense)              (None, 10)                2570      \n",
      "=================================================================\n",
      "Total params: 207,786\n",
      "Trainable params: 207,786\n",
      "Non-trainable params: 0\n",
      "_________________________________________________________________\n"
     ]
    }
   ],
   "source": [
    "model.summary()"
   ]
  },
  {
   "cell_type": "code",
   "execution_count": 30,
   "id": "5fcb922c",
   "metadata": {},
   "outputs": [],
   "source": [
    "from tensorflow.keras.callbacks import EarlyStopping"
   ]
  },
  {
   "cell_type": "code",
   "execution_count": 31,
   "id": "4b103d61",
   "metadata": {},
   "outputs": [],
   "source": [
    "early_stop = EarlyStopping(monitor='val_loss',mode='min',verbose=1,patience=2)"
   ]
  },
  {
   "cell_type": "code",
   "execution_count": 32,
   "id": "a1d44a12",
   "metadata": {},
   "outputs": [
    {
     "name": "stdout",
     "output_type": "stream",
     "text": [
      "Epoch 1/25\n",
      "1563/1563 [==============================] - 426s 269ms/step - loss: 1.6379 - accuracy: 0.3897 - val_loss: 1.2914 - val_accuracy: 0.5214\n",
      "Epoch 2/25\n",
      "1563/1563 [==============================] - 458s 293ms/step - loss: 1.2472 - accuracy: 0.5517 - val_loss: 1.1119 - val_accuracy: 0.6111\n",
      "Epoch 3/25\n",
      "1563/1563 [==============================] - 357s 228ms/step - loss: 1.0983 - accuracy: 0.6100 - val_loss: 0.9667 - val_accuracy: 0.6591\n",
      "Epoch 4/25\n",
      "1563/1563 [==============================] - 355s 227ms/step - loss: 1.0062 - accuracy: 0.6445 - val_loss: 0.8967 - val_accuracy: 0.6847\n",
      "Epoch 5/25\n",
      "1563/1563 [==============================] - 358s 229ms/step - loss: 0.9358 - accuracy: 0.6686 - val_loss: 0.8422 - val_accuracy: 0.7075\n",
      "Epoch 6/25\n",
      "1563/1563 [==============================] - 361s 231ms/step - loss: 0.8899 - accuracy: 0.6872 - val_loss: 0.8092 - val_accuracy: 0.7197\n",
      "Epoch 7/25\n",
      "1563/1563 [==============================] - 355s 227ms/step - loss: 0.8436 - accuracy: 0.7042 - val_loss: 0.8457 - val_accuracy: 0.7040\n",
      "Epoch 8/25\n",
      "1563/1563 [==============================] - 356s 227ms/step - loss: 0.8122 - accuracy: 0.7148 - val_loss: 0.7525 - val_accuracy: 0.7449\n",
      "Epoch 9/25\n",
      "1563/1563 [==============================] - 358s 229ms/step - loss: 0.7882 - accuracy: 0.7247 - val_loss: 0.7455 - val_accuracy: 0.7432\n",
      "Epoch 10/25\n",
      "1563/1563 [==============================] - 354s 226ms/step - loss: 0.7635 - accuracy: 0.7356 - val_loss: 0.6996 - val_accuracy: 0.7580\n",
      "Epoch 11/25\n",
      "1563/1563 [==============================] - 359s 230ms/step - loss: 0.7499 - accuracy: 0.7395 - val_loss: 0.7613 - val_accuracy: 0.7363\n",
      "Epoch 12/25\n",
      "1563/1563 [==============================] - 356s 228ms/step - loss: 0.7308 - accuracy: 0.7443 - val_loss: 0.7039 - val_accuracy: 0.7593\n",
      "Epoch 00012: early stopping\n"
     ]
    },
    {
     "data": {
      "text/plain": [
       "<tensorflow.python.keras.callbacks.History at 0x13d8dd02430>"
      ]
     },
     "execution_count": 32,
     "metadata": {},
     "output_type": "execute_result"
    }
   ],
   "source": [
    "model.fit(x_train,y_cat_train,epochs=25,validation_data=(x_test,y_cat_test),verbose=1,callbacks=[early_stop])"
   ]
  },
  {
   "cell_type": "code",
   "execution_count": 33,
   "id": "18d19542",
   "metadata": {},
   "outputs": [],
   "source": [
    "metrics = pd.DataFrame(model.history.history)"
   ]
  },
  {
   "cell_type": "code",
   "execution_count": 34,
   "id": "347af33e",
   "metadata": {},
   "outputs": [
    {
     "data": {
      "text/html": [
       "<div>\n",
       "<style scoped>\n",
       "    .dataframe tbody tr th:only-of-type {\n",
       "        vertical-align: middle;\n",
       "    }\n",
       "\n",
       "    .dataframe tbody tr th {\n",
       "        vertical-align: top;\n",
       "    }\n",
       "\n",
       "    .dataframe thead th {\n",
       "        text-align: right;\n",
       "    }\n",
       "</style>\n",
       "<table border=\"1\" class=\"dataframe\">\n",
       "  <thead>\n",
       "    <tr style=\"text-align: right;\">\n",
       "      <th></th>\n",
       "      <th>loss</th>\n",
       "      <th>accuracy</th>\n",
       "      <th>val_loss</th>\n",
       "      <th>val_accuracy</th>\n",
       "    </tr>\n",
       "  </thead>\n",
       "  <tbody>\n",
       "    <tr>\n",
       "      <th>0</th>\n",
       "      <td>1.637946</td>\n",
       "      <td>0.38974</td>\n",
       "      <td>1.291378</td>\n",
       "      <td>0.5214</td>\n",
       "    </tr>\n",
       "    <tr>\n",
       "      <th>1</th>\n",
       "      <td>1.247243</td>\n",
       "      <td>0.55170</td>\n",
       "      <td>1.111911</td>\n",
       "      <td>0.6111</td>\n",
       "    </tr>\n",
       "    <tr>\n",
       "      <th>2</th>\n",
       "      <td>1.098323</td>\n",
       "      <td>0.61000</td>\n",
       "      <td>0.966740</td>\n",
       "      <td>0.6591</td>\n",
       "    </tr>\n",
       "    <tr>\n",
       "      <th>3</th>\n",
       "      <td>1.006190</td>\n",
       "      <td>0.64454</td>\n",
       "      <td>0.896664</td>\n",
       "      <td>0.6847</td>\n",
       "    </tr>\n",
       "    <tr>\n",
       "      <th>4</th>\n",
       "      <td>0.935814</td>\n",
       "      <td>0.66864</td>\n",
       "      <td>0.842226</td>\n",
       "      <td>0.7075</td>\n",
       "    </tr>\n",
       "    <tr>\n",
       "      <th>5</th>\n",
       "      <td>0.889883</td>\n",
       "      <td>0.68718</td>\n",
       "      <td>0.809209</td>\n",
       "      <td>0.7197</td>\n",
       "    </tr>\n",
       "    <tr>\n",
       "      <th>6</th>\n",
       "      <td>0.843639</td>\n",
       "      <td>0.70418</td>\n",
       "      <td>0.845671</td>\n",
       "      <td>0.7040</td>\n",
       "    </tr>\n",
       "    <tr>\n",
       "      <th>7</th>\n",
       "      <td>0.812205</td>\n",
       "      <td>0.71484</td>\n",
       "      <td>0.752486</td>\n",
       "      <td>0.7449</td>\n",
       "    </tr>\n",
       "    <tr>\n",
       "      <th>8</th>\n",
       "      <td>0.788181</td>\n",
       "      <td>0.72474</td>\n",
       "      <td>0.745487</td>\n",
       "      <td>0.7432</td>\n",
       "    </tr>\n",
       "    <tr>\n",
       "      <th>9</th>\n",
       "      <td>0.763466</td>\n",
       "      <td>0.73558</td>\n",
       "      <td>0.699609</td>\n",
       "      <td>0.7580</td>\n",
       "    </tr>\n",
       "    <tr>\n",
       "      <th>10</th>\n",
       "      <td>0.749869</td>\n",
       "      <td>0.73946</td>\n",
       "      <td>0.761308</td>\n",
       "      <td>0.7363</td>\n",
       "    </tr>\n",
       "    <tr>\n",
       "      <th>11</th>\n",
       "      <td>0.730837</td>\n",
       "      <td>0.74428</td>\n",
       "      <td>0.703940</td>\n",
       "      <td>0.7593</td>\n",
       "    </tr>\n",
       "  </tbody>\n",
       "</table>\n",
       "</div>"
      ],
      "text/plain": [
       "        loss  accuracy  val_loss  val_accuracy\n",
       "0   1.637946   0.38974  1.291378        0.5214\n",
       "1   1.247243   0.55170  1.111911        0.6111\n",
       "2   1.098323   0.61000  0.966740        0.6591\n",
       "3   1.006190   0.64454  0.896664        0.6847\n",
       "4   0.935814   0.66864  0.842226        0.7075\n",
       "5   0.889883   0.68718  0.809209        0.7197\n",
       "6   0.843639   0.70418  0.845671        0.7040\n",
       "7   0.812205   0.71484  0.752486        0.7449\n",
       "8   0.788181   0.72474  0.745487        0.7432\n",
       "9   0.763466   0.73558  0.699609        0.7580\n",
       "10  0.749869   0.73946  0.761308        0.7363\n",
       "11  0.730837   0.74428  0.703940        0.7593"
      ]
     },
     "execution_count": 34,
     "metadata": {},
     "output_type": "execute_result"
    }
   ],
   "source": [
    "metrics"
   ]
  },
  {
   "cell_type": "code",
   "execution_count": 35,
   "id": "caf168ca",
   "metadata": {},
   "outputs": [
    {
     "data": {
      "text/plain": [
       "<AxesSubplot:>"
      ]
     },
     "execution_count": 35,
     "metadata": {},
     "output_type": "execute_result"
    },
    {
     "data": {
      "image/png": "[encoded data removed]",
      "text/plain": [
       "<Figure size 432x288 with 1 Axes>"
      ]
     },
     "metadata": {
      "needs_background": "light"
     },
     "output_type": "display_data"
    }
   ],
   "source": [
    "metrics[['loss','val_loss']].plot()"
   ]
  },
  {
   "cell_type": "code",
   "execution_count": 36,
   "id": "cdaf79ea",
   "metadata": {},
   "outputs": [
    {
     "data": {
      "text/plain": [
       "<AxesSubplot:>"
      ]
     },
     "execution_count": 36,
     "metadata": {},
     "output_type": "execute_result"
    },
    {
     "data": {
      "image/png": "[encoded data removed]",
      "text/plain": [
       "<Figure size 432x288 with 1 Axes>"
      ]
     },
     "metadata": {
      "needs_background": "light"
     },
     "output_type": "display_data"
    }
   ],
   "source": [
    "metrics[['accuracy','val_accuracy']].plot()"
   ]
  },
  {
   "cell_type": "code",
   "execution_count": 37,
   "id": "fe3f1e35",
   "metadata": {},
   "outputs": [
    {
     "data": {
      "text/plain": [
       "[0.7039399743080139, 0.7592999935150146]"
      ]
     },
     "execution_count": 37,
     "metadata": {},
     "output_type": "execute_result"
    }
   ],
   "source": [
    "model.evaluate(x_test,y_cat_test,verbose=0)"
   ]
  },
  {
   "cell_type": "code",
   "execution_count": 38,
   "id": "c315e7e0",
   "metadata": {},
   "outputs": [],
   "source": [
    "from sklearn.metrics import classification_report,confusion_matrix"
   ]
  },
  {
   "cell_type": "code",
   "execution_count": 39,
   "id": "6482731d",
   "metadata": {},
   "outputs": [
    {
     "data": {
      "text/plain": [
       "array([[1.64982118e-03, 3.21345520e-04, 2.61405343e-03, ...,\n",
       "        6.09761290e-03, 5.41595137e-03, 3.24495340e-04],\n",
       "       [9.86433309e-03, 3.60328734e-01, 2.11738416e-06, ...,\n",
       "        1.27663313e-07, 6.26175344e-01, 3.59494286e-03],\n",
       "       [6.28317893e-02, 2.83333987e-01, 5.06563170e-04, ...,\n",
       "        1.20941448e-04, 5.41806757e-01, 1.09821156e-01],\n",
       "       ...,\n",
       "       [1.86279664e-07, 1.17558862e-07, 3.37032252e-04, ...,\n",
       "        9.12639138e-04, 1.46343865e-07, 9.25755614e-07],\n",
       "       [1.16432807e-03, 9.94175136e-01, 1.22712736e-04, ...,\n",
       "        3.62549981e-05, 4.45510086e-05, 4.21605026e-03],\n",
       "       [3.05717492e-07, 2.31758446e-10, 9.67991309e-06, ...,\n",
       "        9.92293835e-01, 2.94252733e-09, 3.48957552e-09]], dtype=float32)"
      ]
     },
     "execution_count": 39,
     "metadata": {},
     "output_type": "execute_result"
    }
   ],
   "source": [
    "model.predict(x_test)"
   ]
  },
  {
   "cell_type": "code",
   "execution_count": 50,
   "id": "6ff6a5af",
   "metadata": {},
   "outputs": [],
   "source": [
    "predictions = np.argmax(model.predict(x_test), axis=-1)"
   ]
  },
  {
   "cell_type": "code",
   "execution_count": 51,
   "id": "4820928e",
   "metadata": {},
   "outputs": [
    {
     "data": {
      "text/plain": [
       "array([5, 8, 1, ..., 5, 1, 7], dtype=int64)"
      ]
     },
     "execution_count": 51,
     "metadata": {},
     "output_type": "execute_result"
    }
   ],
   "source": [
    "predictions"
   ]
  },
  {
   "cell_type": "code",
   "execution_count": 52,
   "id": "e479d7ce",
   "metadata": {},
   "outputs": [
    {
     "data": {
      "text/plain": [
       "array([[3],\n",
       "       [8],\n",
       "       [8],\n",
       "       ...,\n",
       "       [5],\n",
       "       [1],\n",
       "       [7]], dtype=uint8)"
      ]
     },
     "execution_count": 52,
     "metadata": {},
     "output_type": "execute_result"
    }
   ],
   "source": [
    "y_test"
   ]
  },
  {
   "cell_type": "code",
   "execution_count": 53,
   "id": "37571a94",
   "metadata": {},
   "outputs": [
    {
     "name": "stdout",
     "output_type": "stream",
     "text": [
      "              precision    recall  f1-score   support\n",
      "\n",
      "           0       0.75      0.72      0.74      1000\n",
      "           1       0.75      0.82      0.78      1000\n",
      "           2       0.67      0.48      0.56      1000\n",
      "           3       0.44      0.56      0.49      1000\n",
      "           4       0.61      0.61      0.61      1000\n",
      "           5       0.55      0.62      0.58      1000\n",
      "           6       0.87      0.62      0.72      1000\n",
      "           7       0.70      0.76      0.73      1000\n",
      "           8       0.86      0.69      0.77      1000\n",
      "           9       0.67      0.81      0.73      1000\n",
      "\n",
      "    accuracy                           0.67     10000\n",
      "   macro avg       0.69      0.67      0.67     10000\n",
      "weighted avg       0.69      0.67      0.67     10000\n",
      "\n"
     ]
    }
   ],
   "source": [
    "print(classification_report(y_test,predictions))"
   ]
  },
  {
   "cell_type": "code",
   "execution_count": 54,
   "id": "8b7dbbe9",
   "metadata": {},
   "outputs": [
    {
     "data": {
      "text/plain": [
       "array([[722,  37,  40,  30,  31,  14,   3,   8,  52,  63],\n",
       "       [ 16, 821,   8,  12,   2,   4,   4,   3,   8, 122],\n",
       "       [ 53,  16, 476, 114, 122, 102,  30,  54,  10,  23],\n",
       "       [ 18,  17,  36, 563,  61, 195,  16,  58,   8,  28],\n",
       "       [ 16,   5,  44, 118, 606,  54,  28, 101,  10,  18],\n",
       "       [ 14,   8,  22, 193,  40, 619,   9,  75,   2,  18],\n",
       "       [  9,  17,  54, 145,  62,  56, 618,  12,   2,  25],\n",
       "       [ 12,   5,  11,  60,  61,  59,   0, 761,   2,  29],\n",
       "       [ 82,  78,  13,  24,  11,  10,   3,   8, 692,  79],\n",
       "       [ 21,  88,   6,  24,   4,  10,   3,  14,  19, 811]], dtype=int64)"
      ]
     },
     "execution_count": 54,
     "metadata": {},
     "output_type": "execute_result"
    }
   ],
   "source": [
    "confusion_matrix(y_test,predictions)"
   ]
  },
  {
   "cell_type": "code",
   "execution_count": 55,
   "id": "74b41091",
   "metadata": {},
   "outputs": [
    {
     "data": {
      "text/plain": [
       "<AxesSubplot:>"
      ]
     },
     "execution_count": 55,
     "metadata": {},
     "output_type": "execute_result"
    },
    {
     "data": {
      "image/png": "[encoded data removed]",
      "text/plain": [
       "<Figure size 2400x1000 with 2 Axes>"
      ]
     },
     "metadata": {
      "needs_background": "light"
     },
     "output_type": "display_data"
    }
   ],
   "source": [
    "plt.figure(figsize=(12,5),dpi=200)\n",
    "sns.heatmap(confusion_matrix(y_test,predictions),annot=True)"
   ]
  },
  {
   "cell_type": "code",
   "execution_count": 59,
   "id": "ae2be0b0",
   "metadata": {},
   "outputs": [],
   "source": [
    "my_img = x_train[4]"
   ]
  },
  {
   "cell_type": "code",
   "execution_count": 60,
   "id": "a34c6bab",
   "metadata": {},
   "outputs": [
    {
     "data": {
      "text/plain": [
       "(32, 32, 3)"
      ]
     },
     "execution_count": 60,
     "metadata": {},
     "output_type": "execute_result"
    }
   ],
   "source": [
    "my_img.shape"
   ]
  },
  {
   "cell_type": "code",
   "execution_count": 61,
   "id": "304c9404",
   "metadata": {},
   "outputs": [
    {
     "data": {
      "text/plain": [
       "<matplotlib.image.AxesImage at 0x24976c02550>"
      ]
     },
     "execution_count": 61,
     "metadata": {},
     "output_type": "execute_result"
    },
    {
     "data": {
      "image/png": "[encoded data removed]",
      "text/plain": [
       "<Figure size 432x288 with 1 Axes>"
      ]
     },
     "metadata": {
      "needs_background": "light"
     },
     "output_type": "display_data"
    }
   ],
   "source": [
    "plt.imshow(my_img)"
   ]
  },
  {
   "cell_type": "code",
   "execution_count": 63,
   "id": "ed9f31fc",
   "metadata": {},
   "outputs": [
    {
     "data": {
      "text/plain": [
       "array([1], dtype=uint8)"
      ]
     },
     "execution_count": 63,
     "metadata": {},
     "output_type": "execute_result"
    }
   ],
   "source": [
    "y_train[4]"
   ]
  },
  {
   "cell_type": "code",
   "execution_count": 65,
   "id": "fea87913",
   "metadata": {},
   "outputs": [
    {
     "data": {
      "text/plain": [
       "(32, 32, 3)"
      ]
     },
     "execution_count": 65,
     "metadata": {},
     "output_type": "execute_result"
    }
   ],
   "source": [
    "x_train[4].shape"
   ]
  },
  {
   "cell_type": "code",
   "execution_count": 67,
   "id": "0bedd543",
   "metadata": {},
   "outputs": [
    {
     "data": {
      "text/plain": [
       "array([1], dtype=int64)"
      ]
     },
     "execution_count": 67,
     "metadata": {},
     "output_type": "execute_result"
    }
   ],
   "source": [
    "np.argmax(model.predict(x_train[4].reshape(1,32,32,3)), axis=-1)"
   ]
  },
  {
   "cell_type": "code",
   "execution_count": null,
   "id": "a3f0205a",
   "metadata": {},
   "outputs": [],
   "source": []
  }
 ],
 "metadata": {
  "kernelspec": {
   "display_name": "Python 3",
   "language": "python",
   "name": "python3"
  },
  "language_info": {
   "codemirror_mode": {
    "name": "ipython",
    "version": 3
   },
   "file_extension": ".py",
   "mimetype": "text/x-python",
   "name": "python",
   "nbconvert_exporter": "python",
   "pygments_lexer": "ipython3",
   "version": "3.8.8"
  }
 },
 "nbformat": 4,
 "nbformat_minor": 5
}
